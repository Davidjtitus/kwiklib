{
 "metadata": {
  "name": "",
  "signature": "sha256:aad7fa25738284f9ca5468aa1e30821db81f7a33539dc97a27e654d1ce0141fa"
 },
 "nbformat": 3,
 "nbformat_minor": 0,
 "worksheets": [
  {
   "cells": [
    {
     "cell_type": "code",
     "collapsed": false,
     "input": [
      "import os\n",
      "import timeit\n",
      "import tables as tb\n",
      "import numpy as np"
     ],
     "language": "python",
     "metadata": {},
     "outputs": [],
     "prompt_number": 1
    },
    {
     "cell_type": "code",
     "collapsed": false,
     "input": [
      "def create_contiguous(filename):\n",
      "    with tb.openFile(filename, \"w\") as f:\n",
      "        a = f.createArray('/', 'test', atom=tb.Float32Atom(),\n",
      "                          shape=(n,k))\n",
      "        n_ = n//10\n",
      "        for i in range(10):\n",
      "            print i,\n",
      "            a[i*n_:(i+1)*n_,...] = np.random.rand(n_, k)"
     ],
     "language": "python",
     "metadata": {},
     "outputs": [],
     "prompt_number": 2
    },
    {
     "cell_type": "code",
     "collapsed": false,
     "input": [
      "def create_chunked(filename):\n",
      "    with tb.openFile(filename, \"w\") as f:\n",
      "        a = f.createEArray('/', 'test', atom=tb.Float32Atom(),\n",
      "                           shape=(0,k), chunkshape=(100, k))\n",
      "        n_ = n//10\n",
      "        for i in range(10):\n",
      "            print i,\n",
      "            a.append(np.random.rand(n_, k))"
     ],
     "language": "python",
     "metadata": {},
     "outputs": [],
     "prompt_number": 3
    },
    {
     "cell_type": "code",
     "collapsed": false,
     "input": [
      "def benchmark(*funcs):\n",
      "    with tb.openFile(filename, \"r\") as f:\n",
      "        a = f.root.test\n",
      "        for func in funcs:\n",
      "            %timeit -r1 -n1 func(a)"
     ],
     "language": "python",
     "metadata": {},
     "outputs": [],
     "prompt_number": 4
    },
    {
     "cell_type": "markdown",
     "metadata": {},
     "source": [
      "### Create the array"
     ]
    },
    {
     "cell_type": "code",
     "collapsed": false,
     "input": [
      "n, k = 5000000, 100"
     ],
     "language": "python",
     "metadata": {},
     "outputs": [],
     "prompt_number": 5
    },
    {
     "cell_type": "code",
     "collapsed": false,
     "input": [
      "filename_contiguous = 'features_contiguous.h5'\n",
      "if not os.path.exists(filename_contiguous):\n",
      "    create_contiguous(filename_contiguous)"
     ],
     "language": "python",
     "metadata": {},
     "outputs": [],
     "prompt_number": 6
    },
    {
     "cell_type": "code",
     "collapsed": false,
     "input": [
      "filename_chunked = 'features_chunked.h5'\n",
      "if not os.path.exists(filename_chunked):\n",
      "    create_chunked(filename_chunked)"
     ],
     "language": "python",
     "metadata": {},
     "outputs": [],
     "prompt_number": 7
    },
    {
     "cell_type": "markdown",
     "metadata": {},
     "source": [
      "### Create the indices"
     ]
    },
    {
     "cell_type": "code",
     "collapsed": false,
     "input": [
      "ind = np.random.randint(size=50000, low=0, high=n)\n",
      "ind = np.unique(ind)"
     ],
     "language": "python",
     "metadata": {},
     "outputs": [],
     "prompt_number": 8
    },
    {
     "cell_type": "markdown",
     "metadata": {},
     "source": [
      "## Contiguous"
     ]
    },
    {
     "cell_type": "markdown",
     "metadata": {},
     "source": [
      "### Solution 1: fancy indexing, slow"
     ]
    },
    {
     "cell_type": "code",
     "collapsed": false,
     "input": [
      "def read1(a):\n",
      "    return a[ind,:]"
     ],
     "language": "python",
     "metadata": {},
     "outputs": [],
     "prompt_number": 9
    },
    {
     "cell_type": "raw",
     "metadata": {},
     "source": [
      "with tb.openFile(filename_contiguous, \"r\") as f:\n",
      "    a = f.root.test\n",
      "    %timeit -r1 -n1 read1(a)"
     ]
    },
    {
     "cell_type": "markdown",
     "metadata": {},
     "source": [
      "### Solution 2: for loop"
     ]
    },
    {
     "cell_type": "code",
     "collapsed": false,
     "input": [
      "def read2(a):\n",
      "    out = np.empty((len(ind),) +  a.shape[1:], dtype=a.dtype)\n",
      "    for j, i in enumerate(ind):\n",
      "        out[j:j+1,...] = a[i:i+1,...]\n",
      "    return out"
     ],
     "language": "python",
     "metadata": {},
     "outputs": [],
     "prompt_number": 10
    },
    {
     "cell_type": "code",
     "collapsed": false,
     "input": [
      "with tb.openFile(filename_contiguous, \"r\") as f:\n",
      "    a = f.root.test\n",
      "    %timeit -r1 -n1 read2(a)"
     ],
     "language": "python",
     "metadata": {},
     "outputs": [
      {
       "output_type": "stream",
       "stream": "stdout",
       "text": [
        "1 loops, best of 1: 2.26 s per loop\n"
       ]
      }
     ],
     "prompt_number": 11
    },
    {
     "cell_type": "markdown",
     "metadata": {},
     "source": [
      "## Chunked"
     ]
    },
    {
     "cell_type": "raw",
     "metadata": {},
     "source": [
      "with tb.openFile(filename_chunked, \"r\") as f:\n",
      "    a = f.root.test\n",
      "    %timeit -r1 -n1 read1(a)"
     ]
    },
    {
     "cell_type": "code",
     "collapsed": false,
     "input": [
      "with tb.openFile(filename_chunked, \"r\") as f:\n",
      "    a = f.root.test\n",
      "    %timeit -r1 -n1 read2(a)"
     ],
     "language": "python",
     "metadata": {},
     "outputs": [
      {
       "output_type": "stream",
       "stream": "stdout",
       "text": [
        "1 loops, best of 1: 2.65 s per loop\n"
       ]
      }
     ],
     "prompt_number": 14
    }
   ],
   "metadata": {}
  }
 ]
}