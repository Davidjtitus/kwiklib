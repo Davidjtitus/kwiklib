{
 "metadata": {
  "name": "",
  "signature": "sha256:05eb973220d1d4c614a406749e5997b50a3b976497977dd10c7830046cf867c4"
 },
 "nbformat": 3,
 "nbformat_minor": 0,
 "worksheets": [
  {
   "cells": [
    {
     "cell_type": "raw",
     "metadata": {},
     "source": [
      "import tables as tb\n",
      "import numpy as np\n",
      "n, k, d = 1000000, 20, 30\n",
      "ind = np.random.rand(n) < .01\n",
      "ind = np.nonzero(ind)[0]\n",
      "print len(ind), \"rows to select out of\", n\n",
      "#for chunk in (100, 1000, 10000):\n",
      "with tb.openFile(\"test\", \"w\") as f:\n",
      "    a = f.createEArray('/', 'test', \n",
      "                       obj=np.random.rand(n//10, k, d),\n",
      "                       chunkshape=(1, k, d))\n",
      "    for _ in range(9):\n",
      "        a.append(np.random.rand(n//10, k, d))\n",
      "    #print \"chunk =\", chunk\n",
      "    #%timeit -r1 -n1 a[::1000,...]\n",
      "    #print"
     ]
    },
    {
     "cell_type": "code",
     "collapsed": false,
     "input": [
      "import tables as tb\n",
      "import numpy as np\n",
      "n, k, d = 1000000, 20, 30\n",
      "ind = np.random.rand(n) < .0001\n",
      "ind = np.nonzero(ind)[0]\n",
      "print len(ind), \"rows to select out of\", n\n",
      "with tb.openFile(\"test3\", \"r\") as f:\n",
      "    a = f.root.test\n",
      "    %timeit -r1 -n1 [a[i,...] for i in ind]\n",
      "    %timeit -r1 -n1 [a[i,...] for i in ind]\n",
      "    %timeit -r1 -n1 a[::n//100,...]\n",
      "    #%timeit -r1 -n1 [a[ind,...] for i in ind]"
     ],
     "language": "python",
     "metadata": {},
     "outputs": [
      {
       "output_type": "stream",
       "stream": "stdout",
       "text": [
        "100 rows to select out of 1000000\n",
        "1 loops, best of 1: 268 ms per loop"
       ]
      },
      {
       "output_type": "stream",
       "stream": "stdout",
       "text": [
        "\n",
        "1 loops, best of 1: 10.2 ms per loop\n",
        "1 loops, best of 1: 146 ms per loop"
       ]
      },
      {
       "output_type": "stream",
       "stream": "stdout",
       "text": [
        "\n"
       ]
      }
     ],
     "prompt_number": 68
    },
    {
     "cell_type": "code",
     "collapsed": false,
     "input": [],
     "language": "python",
     "metadata": {},
     "outputs": [],
     "prompt_number": 23
    },
    {
     "cell_type": "code",
     "collapsed": false,
     "input": [],
     "language": "python",
     "metadata": {},
     "outputs": []
    }
   ],
   "metadata": {}
  }
 ]
}