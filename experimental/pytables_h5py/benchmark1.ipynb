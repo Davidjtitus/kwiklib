{
 "metadata": {
  "name": "",
  "signature": "sha256:cab77e383a698501ae3811e9ac3571db77bb9ac64ba83a9d5c4f5afad324b005"
 },
 "nbformat": 3,
 "nbformat_minor": 0,
 "worksheets": [
  {
   "cells": [
    {
     "cell_type": "markdown",
     "metadata": {},
     "source": [
      "# Performance comparisons on arrays between PyTables and h5py"
     ]
    },
    {
     "cell_type": "code",
     "collapsed": false,
     "input": [
      "import tables as tb\n",
      "import h5py\n",
      "import numpy as np"
     ],
     "language": "python",
     "metadata": {},
     "outputs": [],
     "prompt_number": 1
    },
    {
     "cell_type": "code",
     "collapsed": false,
     "input": [
      "import tables as tb\n",
      "import numpy as np\n",
      "n, k = 200000, 100\n",
      "ind = np.random.rand(n) < .01\n",
      "ind = np.nonzero(ind)[0]\n",
      "print len(ind), \"rows to select\"\n",
      "for chunk in (1, 10, 100, 1000, 10000):\n",
      "    f = tb.openFile(\"test\", \"w\")\n",
      "    a = f.createEArray('/', 'test', \n",
      "                       obj=np.random.rand(n, k),\n",
      "                       chunkshape=(chunk, k))\n",
      "    print \"chunk =\", chunk\n",
      "    %timeit -r1 -n1 a[ind].reshape((-1, k))\n",
      "    print\n",
      "    f.close()"
     ],
     "language": "python",
     "metadata": {},
     "outputs": [
      {
       "output_type": "stream",
       "stream": "stdout",
       "text": [
        "2007 rows to select\n",
        "chunk="
       ]
      },
      {
       "output_type": "stream",
       "stream": "stdout",
       "text": [
        " 1\n",
        "1 loops, best of 1: 1.28 s per loop"
       ]
      },
      {
       "output_type": "stream",
       "stream": "stdout",
       "text": [
        "\n",
        "\n",
        "chunk="
       ]
      },
      {
       "output_type": "stream",
       "stream": "stdout",
       "text": [
        " 10\n",
        "1 loops, best of 1: 554 ms per loop"
       ]
      },
      {
       "output_type": "stream",
       "stream": "stdout",
       "text": [
        "\n",
        "\n",
        "chunk="
       ]
      },
      {
       "output_type": "stream",
       "stream": "stdout",
       "text": [
        " 100\n",
        "1 loops, best of 1: 370 ms per loop"
       ]
      },
      {
       "output_type": "stream",
       "stream": "stdout",
       "text": [
        "\n",
        "\n",
        "chunk="
       ]
      },
      {
       "output_type": "stream",
       "stream": "stdout",
       "text": [
        " 1000\n",
        "1 loops, best of 1: 226 ms per loop"
       ]
      },
      {
       "output_type": "stream",
       "stream": "stdout",
       "text": [
        "\n",
        "\n",
        "chunk="
       ]
      },
      {
       "output_type": "stream",
       "stream": "stdout",
       "text": [
        " 1000\n",
        "1 loops, best of 1: 240 ms per loop"
       ]
      },
      {
       "output_type": "stream",
       "stream": "stdout",
       "text": [
        "\n",
        "\n"
       ]
      }
     ],
     "prompt_number": 5
    },
    {
     "cell_type": "code",
     "collapsed": false,
     "input": [
      "n, k = 100000, 100\n",
      "shape = (n, k)"
     ],
     "language": "python",
     "metadata": {},
     "outputs": [],
     "prompt_number": 10
    },
    {
     "cell_type": "code",
     "collapsed": false,
     "input": [
      "f = tb.openFile(\"test\", \"w\")\n",
      "a = f.createEArray('/', 'test', obj=np.random.rand(n // 10, k),\n",
      "                    chunkshape=(1, k))\n",
      "for _ in range(9):\n",
      "    a.append(np.random.rand(n // 10, k))\n",
      "f.close()"
     ],
     "language": "python",
     "metadata": {},
     "outputs": [],
     "prompt_number": 11
    },
    {
     "cell_type": "markdown",
     "metadata": {},
     "source": [
      "## PyTables"
     ]
    },
    {
     "cell_type": "markdown",
     "metadata": {},
     "source": [
      "### 1. Array[:n/10]"
     ]
    },
    {
     "cell_type": "markdown",
     "metadata": {},
     "source": [
      "Slice."
     ]
    },
    {
     "cell_type": "code",
     "collapsed": false,
     "input": [
      "with tb.openFile(\"test\", \"r\") as f:\n",
      "    a = f.root.test\n",
      "    %timeit -r1 -n1 a[:n // 10]"
     ],
     "language": "python",
     "metadata": {},
     "outputs": [
      {
       "output_type": "stream",
       "stream": "stdout",
       "text": [
        "1 loops, best of 1: 86.8 ms per loop\n"
       ]
      }
     ],
     "prompt_number": 12
    },
    {
     "cell_type": "markdown",
     "metadata": {},
     "source": [
      "Indices (**with PyTables hack**)."
     ]
    },
    {
     "cell_type": "code",
     "collapsed": false,
     "input": [
      "with tb.openFile(\"test\", \"r\") as f:\n",
      "    a = f.root.test\n",
      "    ind = np.arange(n // 10)\n",
      "    %timeit -r1 -n1 a[ind].reshape((n // 10, k))"
     ],
     "language": "python",
     "metadata": {},
     "outputs": [
      {
       "output_type": "stream",
       "stream": "stdout",
       "text": [
        "1 loops, best of 1: 220 ms per loop\n"
       ]
      }
     ],
     "prompt_number": 13
    },
    {
     "cell_type": "markdown",
     "metadata": {},
     "source": [
      "### 2. Array[::10]"
     ]
    },
    {
     "cell_type": "markdown",
     "metadata": {},
     "source": [
      "Slice."
     ]
    },
    {
     "cell_type": "code",
     "collapsed": false,
     "input": [
      "with tb.openFile(\"test\", \"r\") as f:\n",
      "    a = f.root.test\n",
      "    %timeit -r1 -n1 a[::10,0]"
     ],
     "language": "python",
     "metadata": {},
     "outputs": [
      {
       "output_type": "stream",
       "stream": "stdout",
       "text": [
        "1 loops, best of 1: 10.4 s per loop\n"
       ]
      }
     ],
     "prompt_number": 14
    },
    {
     "cell_type": "markdown",
     "metadata": {},
     "source": [
      "Indices (**with PyTables hack**)."
     ]
    },
    {
     "cell_type": "code",
     "collapsed": false,
     "input": [
      "with tb.openFile(\"test\", \"r\") as f:\n",
      "    a = f.root.test\n",
      "    ind = np.arange(0, n, 10)\n",
      "    %timeit -r1 -n1 a[ind].reshape((n // 10, k))"
     ],
     "language": "python",
     "metadata": {},
     "outputs": [
      {
       "output_type": "stream",
       "stream": "stdout",
       "text": [
        "1 loops, best of 1: 16.6 s per loop\n"
       ]
      }
     ],
     "prompt_number": 15
    },
    {
     "cell_type": "markdown",
     "metadata": {},
     "source": [
      "### 3. Random subselection"
     ]
    },
    {
     "cell_type": "markdown",
     "metadata": {},
     "source": [
      "p = 0.01"
     ]
    },
    {
     "cell_type": "code",
     "collapsed": false,
     "input": [
      "ind = np.random.rand(n) < .01\n",
      "ind = np.nonzero(ind)[0]\n",
      "with tb.openFile(\"test\", \"r\") as f:\n",
      "    a = f.root.test\n",
      "    %timeit -r1 -n1 a[ind].reshape((-1, k))"
     ],
     "language": "python",
     "metadata": {},
     "outputs": [
      {
       "output_type": "stream",
       "stream": "stdout",
       "text": [
        "1 loops, best of 1: 342 ms per loop\n"
       ]
      }
     ],
     "prompt_number": 17
    },
    {
     "cell_type": "code",
     "collapsed": false,
     "input": [
      "ind = np.random.rand(n) < .01\n",
      "ind = np.nonzero(ind)[0]\n",
      "with tb.openFile(\"test\", \"r\") as f:\n",
      "    a = f.root.test\n",
      "    %timeit -r1 -n1 a[ind,0]"
     ],
     "language": "python",
     "metadata": {},
     "outputs": [
      {
       "output_type": "stream",
       "stream": "stdout",
       "text": [
        "1 loops, best of 1: 332 ms per loop\n"
       ]
      }
     ],
     "prompt_number": 19
    },
    {
     "cell_type": "markdown",
     "metadata": {},
     "source": [
      "p = 0.1"
     ]
    },
    {
     "cell_type": "code",
     "collapsed": false,
     "input": [
      "ind = np.random.rand(n) < .1\n",
      "ind = np.nonzero(ind)[0]\n",
      "with tb.openFile(\"test\", \"r\") as f:\n",
      "    a = f.root.test\n",
      "    %timeit -r1 -n1 a[ind].reshape((-1, k))"
     ],
     "language": "python",
     "metadata": {},
     "outputs": [
      {
       "output_type": "stream",
       "stream": "stdout",
       "text": [
        "1 loops, best of 1: 14.1 s per loop\n"
       ]
      }
     ],
     "prompt_number": 18
    },
    {
     "cell_type": "markdown",
     "metadata": {},
     "source": [
      "## h5py"
     ]
    },
    {
     "cell_type": "code",
     "collapsed": false,
     "input": [
      "f = h5py.File(\"test\", \"r\")"
     ],
     "language": "python",
     "metadata": {},
     "outputs": []
    },
    {
     "cell_type": "markdown",
     "metadata": {},
     "source": [
      "p = 0.1"
     ]
    },
    {
     "cell_type": "code",
     "collapsed": false,
     "input": [
      "ind = np.random.rand(n) < .1\n",
      "ind = np.nonzero(ind)[0]\n",
      "with h5py.File(\"test\", \"r\") as f:\n",
      "    a = f.get(\"test\")\n",
      "    %timeit -r1 -n1 a[ind, 0]"
     ],
     "language": "python",
     "metadata": {},
     "outputs": [
      {
       "output_type": "stream",
       "stream": "stdout",
       "text": [
        "1 loops, best of 1: 16.8 s per loop\n"
       ]
      }
     ],
     "prompt_number": 20
    },
    {
     "cell_type": "code",
     "collapsed": false,
     "input": [],
     "language": "python",
     "metadata": {},
     "outputs": []
    }
   ],
   "metadata": {}
  }
 ]
}