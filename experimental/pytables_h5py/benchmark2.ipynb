{
 "metadata": {
  "name": "",
  "signature": "sha256:a678776d8ff7085252091772c7789c584b03a05aca134d8a78cff877619c124f"
 },
 "nbformat": 3,
 "nbformat_minor": 0,
 "worksheets": [
  {
   "cells": [
    {
     "cell_type": "code",
     "collapsed": false,
     "input": [
      "import tables as tb\n",
      "import numpy as np\n",
      "n, k = 1000000, 100\n",
      "ind = np.random.rand(n) < .01\n",
      "ind = np.nonzero(ind)[0]\n",
      "print len(ind), \"rows to select out of\", n\n",
      "for chunk in (1, 10, 100, 1000, 10000):\n",
      "    with tb.openFile(\"test\", \"w\") as f:\n",
      "        a = f.createEArray('/', 'test', \n",
      "                           obj=np.random.rand(n//10, k),\n",
      "                           chunkshape=(chunk, k))\n",
      "        for _ in range(9):\n",
      "            a.append(np.random.rand(n//10, k))\n",
      "        print \"chunk =\", chunk\n",
      "        %timeit -r1 -n1 a[ind].reshape((-1, k))\n",
      "        print"
     ],
     "language": "python",
     "metadata": {},
     "outputs": []
    },
    {
     "cell_type": "code",
     "collapsed": false,
     "input": [
      "import tables as tb\n",
      "import numpy as np\n",
      "n, k = 1000000, 100\n",
      "ind = np.random.rand(n) < .01\n",
      "ind = np.nonzero(ind)[0]\n",
      "print len(ind), \"rows to select out of\", n\n",
      "for chunk in (100, 1000, 10000):\n",
      "    with tb.openFile(\"test\", \"w\") as f:\n",
      "        a = f.createEArray('/', 'test', \n",
      "                           obj=np.random.rand(n//10, k),\n",
      "                           chunkshape=(chunk, 10))\n",
      "        for _ in range(9):\n",
      "            a.append(np.random.rand(n//10, k))\n",
      "        print \"chunk =\", chunk\n",
      "        %timeit -r1 -n1 a[ind,0]\n",
      "        print"
     ],
     "language": "python",
     "metadata": {},
     "outputs": [
      {
       "output_type": "stream",
       "stream": "stdout",
       "text": [
        "10013 rows to select out of 1000000\n",
        "chunk ="
       ]
      },
      {
       "output_type": "stream",
       "stream": "stdout",
       "text": [
        " 100\n",
        "1 loops, best of 1: 9.98 s per loop"
       ]
      },
      {
       "output_type": "stream",
       "stream": "stdout",
       "text": [
        "\n",
        "\n",
        "chunk ="
       ]
      },
      {
       "output_type": "stream",
       "stream": "stdout",
       "text": [
        " 1000\n",
        "1 loops, best of 1: 4.95 s per loop"
       ]
      },
      {
       "output_type": "stream",
       "stream": "stdout",
       "text": [
        "\n",
        "\n",
        "chunk ="
       ]
      },
      {
       "output_type": "stream",
       "stream": "stdout",
       "text": [
        " 10000\n",
        "1 loops, best of 1: 4.23 s per loop"
       ]
      },
      {
       "output_type": "stream",
       "stream": "stdout",
       "text": [
        "\n",
        "\n"
       ]
      }
     ],
     "prompt_number": 8
    },
    {
     "cell_type": "code",
     "collapsed": false,
     "input": [
      "import tables as tb\n",
      "import numpy as np\n",
      "n, k = 1000000, 100\n",
      "ind = np.random.rand(n) < .01\n",
      "ind = np.nonzero(ind)[0]\n",
      "with tb.openFile(\"test\", \"w\") as f:\n",
      "    a = f.createEArray('/', 'test', \n",
      "                       obj=np.random.rand(n//10, k),\n",
      "                       chunkshape=(100000, 1))\n",
      "    for _ in range(9):\n",
      "        a.append(np.random.rand(n//10, k))\n",
      "    %timeit -r1 -n1 [a[:,i][ind] for i in range(5)]\n",
      "    #%timeit -r1 -n1 a[ind,0]\n",
      "    print"
     ],
     "language": "python",
     "metadata": {},
     "outputs": [
      {
       "output_type": "stream",
       "stream": "stdout",
       "text": [
        "1 loops, best of 1: 26.9 ms per loop\n",
        "\n"
       ]
      }
     ],
     "prompt_number": 6
    },
    {
     "cell_type": "raw",
     "metadata": {},
     "source": [
      "import tables as tb\n",
      "import numpy as np\n",
      "n, k = 1000000, 1000\n",
      "ind = np.random.rand(n) < .01\n",
      "ind = np.nonzero(ind)[0]\n",
      "with tb.openFile(\"test\", \"w\") as f:\n",
      "    a = f.createEArray('/', 'test', \n",
      "                       obj=np.random.rand(n//10, k),\n",
      "                       chunkshape=(100000, 1))\n",
      "    for _ in range(9):\n",
      "        print _\n",
      "        a.append(np.random.rand(n//10, k))\n",
      "    #%timeit -r1 -n1 [a[:,i][ind] for i in range(2)]\n",
      "    #%timeit -r1 -n1 a[ind,0]\n",
      "    print"
     ]
    },
    {
     "cell_type": "code",
     "collapsed": false,
     "input": [
      "import tables as tb\n",
      "import numpy as np\n",
      "n, k = 1000000, 1000\n",
      "ind = np.random.rand(n) < .01\n",
      "ind = np.nonzero(ind)[0]\n",
      "with tb.openFile(\"test\", \"r\") as f:\n",
      "    a = f.root.test\n",
      "    %timeit -r1 -n1 [a[:,i][ind] for i in range(2)]\n",
      "    %timeit -r1 -n1 a[:,:2][ind,:]\n",
      "    %timeit -r1 -n1 a[:,[0,1]][ind,:]\n",
      "    %timeit -r1 -n1 a[ind,:2]\n",
      "    %timeit -r1 -n1 [a[ind,i] for i in range(2)]\n",
      "    print"
     ],
     "language": "python",
     "metadata": {},
     "outputs": [
      {
       "output_type": "stream",
       "stream": "stdout",
       "text": [
        "1 loops, best of 1: 10.7 ms per loop\n",
        "1 loops, best of 1: 22.7 ms per loop\n",
        "1 loops, best of 1: 911 ms per loop"
       ]
      },
      {
       "output_type": "stream",
       "stream": "stdout",
       "text": [
        "\n",
        "1 loops, best of 1: 4.16 s per loop"
       ]
      },
      {
       "output_type": "stream",
       "stream": "stdout",
       "text": [
        "\n",
        "1 loops, best of 1: 8.27 s per loop"
       ]
      },
      {
       "output_type": "stream",
       "stream": "stdout",
       "text": [
        "\n",
        "\n"
       ]
      }
     ],
     "prompt_number": 13
    },
    {
     "cell_type": "code",
     "collapsed": false,
     "input": [],
     "language": "python",
     "metadata": {},
     "outputs": []
    }
   ],
   "metadata": {}
  }
 ]
}