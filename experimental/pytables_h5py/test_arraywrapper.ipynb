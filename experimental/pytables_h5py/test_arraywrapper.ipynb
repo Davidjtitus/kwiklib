{
 "metadata": {
  "name": "",
  "signature": "sha256:58a5f9c39dfdfef45989cbc3b627867cbb7dcf1bac010e5f81e8d1a1e268e023"
 },
 "nbformat": 3,
 "nbformat_minor": 0,
 "worksheets": [
  {
   "cells": [
    {
     "cell_type": "code",
     "collapsed": false,
     "input": [
      "import numpy as np\n",
      "import tables as tb"
     ],
     "language": "python",
     "metadata": {},
     "outputs": [],
     "prompt_number": 3
    },
    {
     "cell_type": "code",
     "collapsed": false,
     "input": [
      "import arraywrapper\n",
      "reload(arraywrapper)\n",
      "from arraywrapper import ArrayWrapper"
     ],
     "language": "python",
     "metadata": {},
     "outputs": [],
     "prompt_number": 2
    },
    {
     "cell_type": "code",
     "collapsed": false,
     "input": [],
     "language": "python",
     "metadata": {},
     "outputs": []
    },
    {
     "cell_type": "code",
     "collapsed": false,
     "input": [
      "ArrayWrapper("
     ],
     "language": "python",
     "metadata": {},
     "outputs": []
    }
   ],
   "metadata": {}
  }
 ]
}