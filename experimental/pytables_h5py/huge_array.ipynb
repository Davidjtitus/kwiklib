{
 "metadata": {
  "name": "",
  "signature": "sha256:6f9c11839c2060c34f2f9948e7bfd26e1e5c93d6f011a708b949039c4bb1cba5"
 },
 "nbformat": 3,
 "nbformat_minor": 0,
 "worksheets": [
  {
   "cells": [
    {
     "cell_type": "code",
     "collapsed": false,
     "input": [
      "import tables as tb\n",
      "import numpy as np\n",
      "with tb.openFile(\"huge_tb\", \"w\") as f:\n",
      "    # The call below seems to allocate the full array\n",
      "    # in memory (2 GB).\n",
      "    a = f.createArray('/', 'test', atom=tb.Int16Atom(),\n",
      "                      shape=(1000,1000,1000))"
     ],
     "language": "python",
     "metadata": {},
     "outputs": [],
     "prompt_number": 1
    },
    {
     "cell_type": "code",
     "collapsed": false,
     "input": [
      "import h5py\n",
      "import numpy as np\n",
      "with h5py.File(\"huge_h5py\", \"w\") as f:\n",
      "    a = f.create_dataset('/test', dtype=np.int16, \n",
      "                         shape=(10000,1000,1000))\n",
      "    a[0,...] = 0"
     ],
     "language": "python",
     "metadata": {},
     "outputs": [],
     "prompt_number": 4
    }
   ],
   "metadata": {}
  }
 ]
}