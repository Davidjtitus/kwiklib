{
 "metadata": {
  "name": "",
  "signature": "sha256:4959c8f65842a6290f31abedb1cbee765651db43a837d0297bfb8a30b84aac1b"
 },
 "nbformat": 3,
 "nbformat_minor": 0,
 "worksheets": [
  {
   "cells": [
    {
     "cell_type": "code",
     "collapsed": false,
     "input": [
      "import os\n",
      "import timeit\n",
      "import tables as tb\n",
      "import h5py\n",
      "import numpy as np"
     ],
     "language": "python",
     "metadata": {},
     "outputs": [],
     "prompt_number": 118
    },
    {
     "cell_type": "code",
     "collapsed": false,
     "input": [
      "n, k = 5000000, 100"
     ],
     "language": "python",
     "metadata": {},
     "outputs": [],
     "prompt_number": 119
    },
    {
     "cell_type": "code",
     "collapsed": false,
     "input": [
      "def create_contiguous(filename):\n",
      "    with tb.openFile(filename, \"w\") as f:\n",
      "        a = f.createArray('/', 'test', atom=tb.Float32Atom(),\n",
      "                          shape=(n,k))\n",
      "        n_ = n//10\n",
      "        for i in range(10):\n",
      "            print i,\n",
      "            a[i*n_:(i+1)*n_,...] = np.random.rand(n_, k)"
     ],
     "language": "python",
     "metadata": {},
     "outputs": [],
     "prompt_number": 120
    },
    {
     "cell_type": "code",
     "collapsed": false,
     "input": [
      "filename_contiguous = 'features_contiguous.h5'\n",
      "if not os.path.exists(filename_contiguous):\n",
      "    create_contiguous(filename_contiguous)"
     ],
     "language": "python",
     "metadata": {},
     "outputs": [],
     "prompt_number": 121
    },
    {
     "cell_type": "code",
     "collapsed": false,
     "input": [
      "ind = np.random.randint(size=1000, low=0, high=n)\n",
      "ind = np.unique(ind)"
     ],
     "language": "python",
     "metadata": {},
     "outputs": [],
     "prompt_number": 122
    },
    {
     "cell_type": "code",
     "collapsed": false,
     "input": [
      "def read(a, out):\n",
      "    for j, i in enumerate(ind):\n",
      "        out[j:j+1,...] = a[i:i+1,...]\n",
      "    return out"
     ],
     "language": "python",
     "metadata": {},
     "outputs": [],
     "prompt_number": 123
    },
    {
     "cell_type": "code",
     "collapsed": false,
     "input": [
      "with tb.openFile(filename_contiguous, \"r\") as f:\n",
      "    a = f.root.test\n",
      "    out = np.empty((len(ind),k), dtype=a.dtype)\n",
      "    %timeit -r1 -n1 read(a, out)"
     ],
     "language": "python",
     "metadata": {},
     "outputs": [
      {
       "output_type": "stream",
       "stream": "stdout",
       "text": [
        "1 loops, best of 1: 85 ms per loop\n"
       ]
      }
     ],
     "prompt_number": 124
    },
    {
     "cell_type": "code",
     "collapsed": false,
     "input": [
      "with h5py.File(filename_contiguous, \"r\") as f:\n",
      "    a = f['/test']\n",
      "    out = np.empty((len(ind),k), dtype=a.dtype)\n",
      "    %timeit -r1 -n1 read(a, out)"
     ],
     "language": "python",
     "metadata": {},
     "outputs": [
      {
       "output_type": "stream",
       "stream": "stdout",
       "text": [
        "1 loops, best of 1: 157 ms per loop\n"
       ]
      }
     ],
     "prompt_number": 125
    },
    {
     "cell_type": "markdown",
     "metadata": {},
     "source": [
      "### Loading multiple features "
     ]
    },
    {
     "cell_type": "code",
     "collapsed": false,
     "input": [
      "N = 1000"
     ],
     "language": "python",
     "metadata": {},
     "outputs": [],
     "prompt_number": 126
    },
    {
     "cell_type": "code",
     "collapsed": false,
     "input": [
      "def get_cluster_sizes_to_load(cluster_sizes):\n",
      "    cluster_sizes = np.array(cluster_sizes)\n",
      "    k = len(cluster_sizes)\n",
      "    s = float(cluster_sizes.sum())\n",
      "    sizes = np.round(N/2.*(1./k + cluster_sizes/s)).astype(np.int32)\n",
      "    sizes = np.minimum(sizes, cluster_sizes)\n",
      "    rem = N - sizes.sum()\n",
      "    l = np.argsort(cluster_sizes - sizes)#[::-1]\n",
      "    l = l[cluster_sizes-sizes>0]\n",
      "    for i in l:\n",
      "        crem = cluster_sizes[i] - sizes[i]\n",
      "        if crem > 0:\n",
      "            sizes[i] += min(crem, rem)\n",
      "            rem = N - sizes.sum()\n",
      "        else:\n",
      "            break\n",
      "    return sizes"
     ],
     "language": "python",
     "metadata": {},
     "outputs": [],
     "prompt_number": 127
    },
    {
     "cell_type": "code",
     "collapsed": false,
     "input": [
      "sizes = [\n",
      "    [10, 10, 10],\n",
      "    [10, 20, 30],\n",
      "    [100, 100, 100],\n",
      "    [10, 100, 10000],\n",
      "    [1, 1, 1000],\n",
      "    [100, 1000, 10000],\n",
      "    [100, 100000, 100000],\n",
      "    [10000, 100000, 100000],\n",
      "    [100000, 100000, 100000],\n",
      "    [1000000, 1000000, 1000000],\n",
      "    [10, 20, 30, 40, 50, 60, 70, 100000],\n",
      "    [100, 200, 300, 400, 500, 600, 700, 10000000],\n",
      "]\n",
      "for s in sizes:\n",
      "    cl =get_cluster_sizes_to_load(s)\n",
      "    print s, ':', cl, sum(cl)"
     ],
     "language": "python",
     "metadata": {},
     "outputs": [
      {
       "output_type": "stream",
       "stream": "stdout",
       "text": [
        "[10, 10, 10] : [10 10 10] 30\n",
        "[10, 20, 30] : [10 20 30] 60\n",
        "[100, 100, 100] : [100 100 100] 300\n",
        "[10, 100, 10000] : [ 10 100 890] 1000\n",
        "[1, 1, 1000] : [  1   1 998] 1000\n",
        "[100, 1000, 10000] : [100 283 617] 1000\n",
        "[100, 100000, 100000] : [100 483 417] 1000\n",
        "[10000, 100000, 100000] : [190 405 405] 1000\n",
        "[100000, 100000, 100000] : [334 333 333] 1000\n",
        "[1000000, 1000000, 1000000] : [334 333 333] 1000\n",
        "[10, 20, 30, 40, 50, 60, 70, 100000] : [ 10  20  30  40  50  60  70 720] 1000\n",
        "[100, 200, 300, 400, 500, 600, 700, 10000000] : [ 60  63  63  63  63  63  63 562] 1000\n"
       ]
      }
     ],
     "prompt_number": 128
    }
   ],
   "metadata": {}
  }
 ]
}