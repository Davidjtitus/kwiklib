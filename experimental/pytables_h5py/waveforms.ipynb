{
 "metadata": {
  "name": "",
  "signature": "sha256:f5401bccaa28a2fe52aae0374f8f16864e361375104ced9e63b3b7eff310fbab"
 },
 "nbformat": 3,
 "nbformat_minor": 0,
 "worksheets": [
  {
   "cells": [
    {
     "cell_type": "code",
     "collapsed": false,
     "input": [
      "import os\n",
      "import timeit\n",
      "import tables as tb\n",
      "import h5py\n",
      "import numpy as np"
     ],
     "language": "python",
     "metadata": {},
     "outputs": [],
     "prompt_number": 1
    },
    {
     "cell_type": "code",
     "collapsed": false,
     "input": [
      "n, k, l = 1000000, 50, 64"
     ],
     "language": "python",
     "metadata": {},
     "outputs": [],
     "prompt_number": 2
    },
    {
     "cell_type": "code",
     "collapsed": false,
     "input": [
      "def create(filename):\n",
      "    with h5py.File(filename, \"w\") as f:\n",
      "        a = f.create_dataset('/test',dtype=np.int16,\n",
      "                             shape=(n,k,l))\n",
      "        n_ = n//20\n",
      "        for i in range(20):\n",
      "            print i,\n",
      "            a[i*n_:(i+1)*n_,...] = np.random.rand(n_, k, l)"
     ],
     "language": "python",
     "metadata": {},
     "outputs": [],
     "prompt_number": 3
    },
    {
     "cell_type": "code",
     "collapsed": false,
     "input": [
      "filename = 'waveforms.h5'\n",
      "if not os.path.exists(filename):\n",
      "    create(filename)"
     ],
     "language": "python",
     "metadata": {},
     "outputs": [],
     "prompt_number": 11
    },
    {
     "cell_type": "code",
     "collapsed": false,
     "input": [
      "def read(a, out):\n",
      "    for j, i in enumerate(ind):\n",
      "        out[j:j+1,...] = a[i:i+1,...]\n",
      "    return out"
     ],
     "language": "python",
     "metadata": {},
     "outputs": [],
     "prompt_number": 24
    },
    {
     "cell_type": "code",
     "collapsed": false,
     "input": [
      "ind = np.random.randint(size=100, low=0, high=n)\n",
      "ind = np.unique(ind)"
     ],
     "language": "python",
     "metadata": {},
     "outputs": [],
     "prompt_number": 51
    },
    {
     "cell_type": "code",
     "collapsed": false,
     "input": [
      "with tb.openFile(filename, \"r\") as f:\n",
      "    a = f.root.test\n",
      "    out = np.empty((len(ind),k,l), dtype=a.dtype)\n",
      "    %timeit -r1 -n1 read(a, out)"
     ],
     "language": "python",
     "metadata": {},
     "outputs": [
      {
       "output_type": "stream",
       "stream": "stdout",
       "text": [
        "1 loops, best of 1: 331 ms per loop\n"
       ]
      }
     ],
     "prompt_number": 52
    },
    {
     "cell_type": "code",
     "collapsed": false,
     "input": [
      "with h5py.File(filename, \"r\") as f:\n",
      "    a = f['/test']\n",
      "    out = np.empty((len(ind),k,l), dtype=a.dtype)\n",
      "    %timeit -r1 -n1 read(a, out)"
     ],
     "language": "python",
     "metadata": {},
     "outputs": [
      {
       "output_type": "stream",
       "stream": "stdout",
       "text": [
        "1 loops, best of 1: 452 ms per loop\n"
       ]
      }
     ],
     "prompt_number": 44
    }
   ],
   "metadata": {}
  }
 ]
}